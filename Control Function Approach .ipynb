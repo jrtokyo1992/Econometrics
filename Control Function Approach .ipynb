{
 "cells": [
  {
   "cell_type": "markdown",
   "metadata": {},
   "source": [
    "# Basic Idea\n",
    "Consider The following set-up \n",
    "$$y_1 = \\alpha y_2 + u ,\\tag{1}$$\n",
    "$$y_2 = z'\\pi + v,\\tag{2}$$\n",
    "In which $cov(u,v)\\ne 0, E(z'v)=0, E(z'u)=0$\n",
    "Let's write down the the conditional $y_1$ as a function of $y_2$\n",
    "$$E(y_1 |  y_2)= E(y_1 |+ v =y_2)= E(\\alpha y_2 + u| v=y_2-z'\\pi )=\\alpha y_2 +E(u | v=y_2-z'\\pi)$$\n",
    "The problem here is that, $E(u | v=y_2-z'\\pi)$ is a function of $y_2$ and $z'$. If we simply regress $y_1$ on $y_2$, then the estimation is not consistent. This logic is super simple. \n",
    "<p> If we further assume $$u=\\rho v+e, E(v'e)=0$$ Then\n",
    "$$E(y_1 |  y_2)=\\alpha y_2+\\rho (y_2-z'\\pi)$$</p>\n",
    "Now we have got the real expression for the $E(y_1|y_2)$. This also implies that a good regression expression is\n",
    "$$y_1=\\alpha y_2+\\rho (y_2-z'\\pi)+e$$To get the consistent estimation of $\\alpha$, we can do the following step:\n",
    "\n",
    "- estimate $\\hat{v}$ from (2)\n",
    "- regress $y_1$ on $y_2$  and $\\hat{v}$\n",
    "\n",
    "This approach is called control function approach. <b>The basic idea here, from another perspective, is that: since $y_2$ is endogneous due to $v$, then we put the $v$ directly into (1), i.e., 'control' for it</b>. In this linear case, the estimation of the control function approach and the 2SLS are actually the same. But it is said such approach is useful under non-linear model."
   ]
  },
  {
   "cell_type": "markdown",
   "metadata": {},
   "source": [
    "# Example:\n",
    "Consider The following set-up \n",
    "$$y_1 = \\alpha y_2 + u ,\\tag{1}$$\n",
    "$$y_2 = 1\\{z'\\pi + v>0\\},\\tag{2}$$\n",
    "In which $cov(u,v)\\ne 0, E(z'v)=0, E(z'u)=0, v\\~N(0,1), E(u|v)=\\rho v$\n",
    "<p>We still want to write down the real $E(y_1|y_2)$.when $y_2=1$\n",
    "$$E(y_1|y_2)=E(y_1|z'\\pi + v>0 )=E(\\alpha *1 + u|v>-z'\\pi  )=\\alpha+E( u|v>-z'\\pi  )$$\n",
    "when $y_2=0$ then\n",
    "$$E(y_1|y_2)=E(y_1|z'\\pi + v<0 )=E(\\alpha *0 + u|v<-z'\\pi  )=E( u|v<-z'\\pi  )$$</p>\n",
    "We know that \n",
    "$$E( u|v>-z'\\pi )=\\frac{\\int_{-z'\\pi}^{\\infty}{E(u|v)f_v(v)}dv}{pr(v>-z'\\pi)}=\\frac{\\rho\\int_{-z'\\pi}^{\\infty}{ v f_v(v)}dv}{pr(v>-z'\\pi)}= \\frac{\\rho \\phi(-z'\\pi)}{1-\\Phi(-z'\\pi)} =\\rho\\lambda(-z'\\pi)$$\n",
    "$$E( u|v<-z'\\pi )=\\frac{-\\rho \\phi (-z'\\pi)}{\\Phi(-z'\\pi)}=\\frac{-\\rho \\phi (z'\\pi)}{1-\\Phi(z'\\pi)}=-\\rho \\lambda(z'\\pi) $$\n",
    "What does this imply? The true function of $E(y_1|y_2)$ must be\n",
    "$$\\left[\\alpha+\\rho\\lambda(-z'\\pi)\\right]y_2 +\\left[-\\rho\\lambda(z'\\pi)\\right](1-y_2) $$\n",
    "$$=\\alpha y_2+\\left[\\rho\\lambda(-z'\\pi)\\right]y_2 +\\left[-\\rho\\lambda(z'\\pi)\\right](1-y_2) \\tag{3}$$\n",
    "Therefore if we regress $y_1$ on $y_2$ directly, we would not be able to get a consistent estimation of $\\alpha$.What should we do? We can again use control function approach(This really looks like the heckman two-step!). \n",
    "\n",
    "- First, estimate $\\hat{\\lambda(-z'\\pi)}$ use probit model.\n",
    "- Second, plug our estimation into (3) and estimate (3)\n",
    "\n",
    "This control function approach is especially useful in dealing with the probit model with endogeneous variables."
   ]
  },
  {
   "cell_type": "markdown",
   "metadata": {},
   "source": [
    "# Binary Choice with Endogenous variables\n",
    "If we are familiar with the textbook the specification of the endogeneity problem, we can easily write down the following framework\n",
    "$$\n",
    "y^*_1= y'_2\\beta+ u,\\quad y^*_2 = z'\\gamma + v\n",
    "$$\n",
    "$y_1=1$ if $y^*_1 >0$, and $y_1=0$ if $y^*_1 <0$.Assume that $u$ and $v$ are correlated unobservable terms (joint normal distribution with $\\sigma_u$,$\\sigma_v$,$\\rho$), and $\\sigma_u = 1$. Also assume that $cov(z,u)=0$,$cov(z,v)=0$. Of course,if $\\rho \\ne 0$, we can see here that $y'_2$ is an endogeneous variable, since $cov(y_2, u)=cov( z'\\gamma + v, u)=cov(v,u)\\ne 0$\n",
    "\n",
    "\n",
    "As in the basic model, we have \n",
    "$$E(y^*_1|y_2)=\\beta y_2 +E(u | v=y_2-z'\\gamma)$$\n",
    "As before, we want to see the function form of $E( u|v>-z'\\gamma )$. Statistic knowledge tells us that since $u$ and $v$ follows a joint normal distribution, we can write it down the relationship of $u$ and $v$ as\n",
    "$$u=\\delta v+\\epsilon$$ In which $cov(v,\\epsilon)=0$. Of course, since $u$ and $v$ are normal distribution with mean 0,  $\\epsilon$ must also follow a normal distribution with mean 0.  Our task here is to find out the expression for $\\delta$ and $var(\\epsilon)$\n",
    "notice that $$cov(u,v)=\\delta var(v)$$ Therefore we have $\\delta = \\rho/\\sigma$. And since\n",
    "$$1=var(u)=\\delta^2 var(v)+var(\\epsilon)=\\rho^2 +var(\\epsilon)$$ We have $var(\\epsilon)= 1-\\rho^2$.\n",
    "<p> Now we know that the correction expression of $E(y^*_1|y_2)$ is \n",
    "    $$E(y^*_1|y_2)=\\beta y_2+\\delta (y_2-z'\\gamma)$$\n",
    "    And $$y^*_1=\\beta y_2+\\delta (y_2-z'\\gamma)+e \\tag{4}$$\n",
    "   But! Recall in probit model we need to make the error term be standard normal distribution. Here, the $e$, has variance $1-\\rho^2$. Therefore, before we apply the MLE for the probit model, we need to divide everything in (4) by $1-\\rho^2$:\n",
    "    $$\\frac{y^*_1}{1-\\rho^2}=y_2 \\frac{\\beta}{1-\\rho^2}+ \\frac{\\delta}{1-\\rho^2} (y_2-z'\\gamma)+\\frac{e}{1-\\rho^2} $$</p>\n",
    "    \n",
    "Therefore, control function approach here is \n",
    "\n",
    "- estimate $\\hat{v}$ by regress $y_2$ on $z$\n",
    "- estimate The probit model using $y_1$,$y_2$ and $\\hat{v}$.The log likelihood function for individual $i$ is \n",
    "$$y_1\\log{\\Phi\\left(-y_2 \\frac{\\beta}{1-\\rho^2}- \\frac{\\delta}{1-\\rho^2} \\hat{v}\\right)}\n",
    "+(1-y_1)log{\\left(1-\\Phi\\left(-y_2 \\frac{\\beta}{1-\\rho^2}- \\frac{\\delta}{1-\\rho^2} \\hat{v}\\right)\\right)}$$\n",
    "Notice that what we can identify is $ \\frac{\\beta}{1-\\rho^2},\\frac{\\delta}{1-\\rho^2}$\n",
    "\n",
    "Reference:https://www.irp.wisc.edu/newsevents/workshops/appliedmicroeconometrics/participants/slides/Slides_14.pdf\n"
   ]
  }
 ],
 "metadata": {
  "kernelspec": {
   "display_name": "Python 3",
   "language": "python",
   "name": "python3"
  },
  "language_info": {
   "codemirror_mode": {
    "name": "ipython",
    "version": 3
   },
   "file_extension": ".py",
   "mimetype": "text/x-python",
   "name": "python",
   "nbconvert_exporter": "python",
   "pygments_lexer": "ipython3",
   "version": "3.8.3"
  },
  "toc": {
   "base_numbering": 1,
   "nav_menu": {},
   "number_sections": true,
   "sideBar": true,
   "skip_h1_title": false,
   "title_cell": "Table of Contents",
   "title_sidebar": "Contents",
   "toc_cell": false,
   "toc_position": {},
   "toc_section_display": true,
   "toc_window_display": false
  }
 },
 "nbformat": 4,
 "nbformat_minor": 4
}
