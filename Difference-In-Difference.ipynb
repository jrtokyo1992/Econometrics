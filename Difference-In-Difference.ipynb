{
 "cells": [
  {
   "cell_type": "markdown",
   "metadata": {},
   "source": [
    "# Basic Idea\n",
    "Suppose we have two periods: before, $t'$, and after, $t$. Individuals are divided into two groups , one with $D=1$ (experiment group) and one with $D=0$ (control group). At period $t'$, no treatment happens.Everyone's outcome is denoted as $y_{0t'}$. At period $t$, experiment group gets treatment, so they have $y_{1t}$; individuals in control group do not get treatment, so they have $y_{0t}$ \n",
    "<p>The logic flow of DID derivation is same as the treatment effect model. We want to esimate the following:\n",
    "$$E(y_{1t}|x,D=1)- E(y_{0t}|x,D=1)$$\n",
    "But $E(y_{0t}|x,D=1)$ is not observable! To address this, we do the following algebra:</p>\n",
    "$$E(y_{1t}|x,D=1)- E(y_{0t}|x,D=1)= E(y_{1t}|x,D=1)-E(y_{0t'}|x,D=1)+E(y_{0t'}|x,D=1)- E(y_{0t}|x,D=1)$$\n",
    "$$=\\left(E(y_{1t}|x,D=1)-E(y_{0t'}|x,D=1)\\right)-\\left(E(y_{0t}|x,D=1)-E(y_{0t'}|x,D=1)\\right) \\tag{1}$$\n",
    "\n",
    "- $E(y_{1t}|x,D=1)-E(y_{0t'}|x,D=1)$ is the total <b>observable</b> change of the outcome variable (from $t'$ to $t$) for individual $x$ in the treatment group. \n",
    "- $E(y_{0t}|x,D=1)-E(y_{0t'}|x,D=1)$ is the 'hypothetical' change of the outcome variable as if the individual $x$ in the treament group do not participate in the treatment. This measure the 'natural' change (i.e., the change if there is no policy treatment) of the outcome for individuals in the treatment group. unobservable!\n",
    "\n",
    "The total observable change, minus the 'hypothetical' natural change, is the change brought by the treatment, i.e, the effect of the treatment. However, since the 'hypothetical change' is unosbservable, we need to again\n",
    " introduce the CIA assumption: \n",
    "$$E(y_{0t}-y_{0t'}|x,D)=E(y_{0t}-y_{0t'}|x)$$\n",
    "i.e., given the $x$, the trend of outcome (i.e., natural change of outcome without any treatment ) is independent of 'whether getring treatment or not'.\n",
    "Having knowing this, we have \n",
    "$$E(y_{0t}-y_{0t'}|x,D=1)=E(y_{0t}-y_{0t'}|x,D=0)$$\n",
    "The right hand side is observable. Plugging this expression into (1), we have \n",
    "$$E(y_{1t}|x,D=1)- E(y_{0t}|x,D=1)=E(y_{1t}-y_{0t'}|x,D=1)- E(y_{0t}-y_{0t'}|x,D=0) \\tag{2}$$\n",
    "Both terms in the right hand side are observable.\n"
   ]
  },
  {
   "cell_type": "markdown",
   "metadata": {},
   "source": [
    "# Paremetric Method : Linear regression. \n",
    "\n",
    "We now present how to 'recover' the linear regression specification from (2). \n",
    "denote that \n",
    "$$E(y_{0t'}|x,D=0)=\\alpha_1$$\n",
    "i.e., $\\alpha_1$ is the level of $y$ for people in the control group before the experiement happens. We next denote that\n",
    "$$E(y_{0t}|x,D=0)=\\alpha_1+\\alpha_2$$\n",
    "$\\alpha_2$ denotes the 'natural' change of $y$ without any experiment effects (i.e., the change of $y$ for people in the control group)\n",
    "Denote that\n",
    "$$E(y_{0t'}|x,D=1)=\\alpha_1+\\alpha_3$$\n",
    "$\\alpha_3$ denotes the difference of $y$ between the control group and the experiment group before the experiment happens. \n",
    "Finally denotes that\n",
    "$$E(y_{1t}|x,D=1)=\\alpha_1+\\alpha_3+\\alpha_2 + \\alpha_4$$\n",
    "we can see that the change of $y$ for the poeple in the experiment group comes from two parts, $\\alpha_2$, the natural change of $y$, and $\\alpha_4$, the net effect of the treatment.\n",
    "Therefore we can see that \n",
    "- The $\\alpha_2$ appears only when the people is after the experiment. denote $G=1(0)$ as after (before) the treatment. the $\\alpha_2$ is thus the coefficient of $G$. \n",
    "- The $\\alpha_3$ appears only when the people is at experiment group. Denote $D=1(0)$ as in (not in) the treatment group. The $\\alpha_3$ is thus the coefficient of $D$.\n",
    "- The $\\alpha_4$ appears only the people is at experiment group, and the is after experiement. The $\\alpha_4$ is thus the coefficient of $G*D$.\n",
    "\n",
    "Finally the model can be written as\n",
    "$$y= \\alpha_1+\\alpha_2 G + \\alpha_3 D + \\alpha_4 G*D + \\gamma X$$"
   ]
  },
  {
   "cell_type": "markdown",
   "metadata": {},
   "source": [
    "# Non-Parametric Method: PSM \n",
    "\n",
    "The algorithm for doing Non-parametric estimation is super simple:\n",
    "\n",
    "- For each x value (in the D=1 group):\n",
    "    - estimate $\\widehat{E(y_{1t}-y_{0t'}|x,D=1)}\\equiv \\frac{\\sum_{D_i=1,x_i = x}\\left(y_{1ti}-y_{0t'i}\\right)}{\\sum{\\left[1_{\\left(D_i=1,x_i =x\\right)}\\right]}}$  \n",
    "    - estimate $\\widehat{E(y_{0t}-y_{0t'}|x,D=0)} \\equiv \\sum_{D_j=0}{w(x_j,x)\\left(y_{0tj}-y_{0t'j}\\right)} $, in which $w(x_j,x)$ is weight, which is larger when $x_j$ is closer to $x$.\n",
    " the estimated ATT is $\\widehat{E(y_{1t}-y_{0t'}|D=1)}= \\sum_{D_i=1}{\\left[\\widehat{E(y_{1t}-y_{0t'}|x,D=1)}p(x_i)\\right]}$"
   ]
  },
  {
   "cell_type": "markdown",
   "metadata": {},
   "source": [
    "# Difference-in-Difference-in-Difference Method \n",
    "DID requires that the the control group and experiment group have the same time trend (common natural change of target variable.).Sometimes, however, this may not be true, especially when the control group and the experiment group are conceptionally different. To illusrate this, suppose that at year $t$, a province A introduced a health policy targeting on <b>ALL</b> the elder people (over 65). Suppose we have the the health data for all-age people at $t_1$ and $t_2$, with $t_1<t<t_2$. We want to evaluate the effect of such policy on elder people's heatlh.Following the basic idea, we want to see \n",
    "$$E(y^1_{A,old,t_2}|x,old)-E(y^0_{A,old,t_2}|x,old)$$\n",
    "<p>The second is unobservable. Following (2),A (bad) approach is to check \n",
    "   $$E(y^1_{A,old,t_2}-y^0_{A,old,t_1}|x,old)- E(y^0_{A,young,t_2}-y^0_{A,young,t_1}|x,young)$$\n",
    "   This approach relies on the CIA assumption:\n",
    "    $$ E(y^0_{A,young,t_2}-y^0_{A,young,t_1}|x,young)=E(y^0_{A,old,t_2}-y^0_{A,old,t_1}|x,old)$$\n",
    "    This is unrealistic: elder people and young people apparently have different trends of health status!</p>\n",
    "<p>A another (not so bad) approach is to check\n",
    "    $$E(y^1_{A,old,t_2}-y^0_{A,old,t_1}|x,old)- E(y^0_{B,old,t_2}-y^0_{B,old,t_1}|x,old)$$\n",
    "  where $E(y^0_{B,old,t_2}-y^0_{B,old,t_1}|x,old)$ is the trend of change for the elder people at province $B$, where there is no such policy.This relies on the CIA assumption:\n",
    "    $$E(y^0_{B,old,t_2}-y^0_{B,old,t_1}|x,old)=E(y^0_{A,old,t_2}-y^0_{A,old,t_1}|x,old)$$\n",
    "    This is less unrealistic, but still skeptical: elder people in A may have different natural trend in health status from elder people in B.</p>\n",
    "<p> To address this, we can impose the following assumption:\n",
    "    $$E(y^0_{A,young,t_2}-y^0_{A,young,t_1}|x,young)-E(y^0_{A,old,t_2}-y^0_{A,old,t_1}|x,old)$$\n",
    "    $$=E(y^0_{B,young,t_2}-y^0_{B,young,t_1}|x,young)-E(y^0_{B,old,t_2}-y^0_{B,old,t_1}|x,old)$$\n",
    "    That is, <b>the difference in the natural trend of health status between elder and young people in province A and B are the same</b>.Given this assumption, we have \n",
    "    $$E(y^1_{A,old,t_2}|x,old)-E(y^0_{A,old,t_2}|x,old)$$\n",
    "    $$=E(y^1_{A,old,t_2}-y^0_{A,old,t_1}|x,old)-E(y^0_{A,old,t_2}-y^0_{A,old,t_1}|x,old)$$\n",
    "    $$=E(y^1_{A,old,t_2}-y^0_{A,old,t_1}|x,old)+E(y^0_{B,young,t_2}-y^0_{B,young,t_1}|x,young)-E(y^0_{B,old,t_2}-y^0_{B,old,t_1}|x,old)-E(y^0_{A,young,t_2}-y^0_{A,young,t_1}|x,young)$$\n",
    "Now we construct a linear model based on this framework. </p>\n",
    "\n",
    "- Denote the $E(y^0_{B,young,t_1}|x,young)$ as $\\alpha_1$\n",
    "- Denote the $E(y^0_{B,young,t_2}|x,young)$ as $\\alpha_1+\\alpha_2$. $\\alpha_2$ is natural trend for young people at province B.\n",
    "- Denote the $E(y^0_{B,old,t_1}|x,old)$ as $\\alpha_1+\\alpha_3$, $\\alpha_3$ is the difference of the ex-ante heath status between elder and young at B.\n",
    "- Denote the $E(y^0_{B,old,t_2}|x,old)$ as $\\alpha_1+\\alpha_3+\\alpha_2+\\alpha_4$. $\\alpha_4$ is the difference between natural trend for young people and the natural trend for elder people at B.\n",
    "- Denote the $E(y^0_{A,young,t_1}|x,young)$ as $\\alpha_1+\\alpha_5$. $\\alpha_5$ is the across-province difference.\n",
    "- Denote the $E(y^0_{A,young,t_2}|x,young)$ as $\\alpha_1+\\alpha_5+\\alpha_2+\\alpha_6$. $\\alpha_6$ measures the difference between the natural trend of young people in A and that of young people in B.\n",
    "- Denote the $E(y^0_{A,old,t_1}|x,old)$ as $\\alpha_1+\\alpha_3+\\alpha_5+\\alpha_7$. $\\alpha_7$ indicates the differnece between the ex-ante health stauts between elder and young at A.\n",
    "- Denote the $E(y^0_{A,old,t_2}|x,old)$ as $\\alpha_1+\\alpha_3+\\alpha_5+\\alpha_2+\\alpha_6+\\alpha_7+\\alpha_4$.\n",
    "- Denote the $E(y^1_{A,old,t_2}|x,old)$ as $\\alpha_1+\\alpha_3+\\alpha_5+\\alpha_2+\\alpha_6+\\alpha_7+\\alpha_4+\\alpha_8$. $\\alpha_8$ is the true effect of the policy\n",
    "\n",
    "Now it is easy to get:\n",
    "- $\\alpha_2$ appears whenever at $t_2$.Denote $G=1(0)$ as being in $t_2 (t_1)$, then $\\alpha_2$ is the coefficient of $G$. \n",
    "- $\\alpha_3$ appears whenever old. Denote $O=1(0)$ as being old (young), then $\\alpha_3$ is the coefficient of $O$.\n",
    "- $\\alpha_4$ appears whenever old at $t_2$. then $\\alpha_4$ is the coefficient of $G*O$\n",
    "- $\\alpha_5$ appears whenever at province A. Denote $A=1(0)$ as being in state A (B). Then $\\alpha_5$ is the coefficient of $A$.\n",
    "- $\\alpha_6$ appears whenever at province A and $t_2$. then $\\alpha_6$ is the coefficient of $A*G$.\n",
    "- $\\alpha_7$ appears whenever at province A and old. Then $\\alpha_7$ is the coeffcient of $A*O$.\n",
    "- $\\alpha_8$ appaears whenever at province A and old and $t_2$.Then $\\alpha_8$ is the the coefficient of $A*O*G$.\n",
    "\n",
    "There we can write the linear regression model based on the above analysis. "
   ]
  },
  {
   "cell_type": "code",
   "execution_count": null,
   "metadata": {},
   "outputs": [],
   "source": []
  }
 ],
 "metadata": {
  "kernelspec": {
   "display_name": "Python 3",
   "language": "python",
   "name": "python3"
  },
  "language_info": {
   "codemirror_mode": {
    "name": "ipython",
    "version": 3
   },
   "file_extension": ".py",
   "mimetype": "text/x-python",
   "name": "python",
   "nbconvert_exporter": "python",
   "pygments_lexer": "ipython3",
   "version": "3.8.3"
  },
  "toc": {
   "base_numbering": 1,
   "nav_menu": {},
   "number_sections": true,
   "sideBar": true,
   "skip_h1_title": false,
   "title_cell": "Table of Contents",
   "title_sidebar": "Contents",
   "toc_cell": false,
   "toc_position": {},
   "toc_section_display": true,
   "toc_window_display": false
  }
 },
 "nbformat": 4,
 "nbformat_minor": 4
}
