{
 "cells": [
  {
   "cell_type": "markdown",
   "metadata": {},
   "source": [
    "## The Source of the Heteroskasticity\n",
    "### Scale Effect\n",
    "- Consumption function: $$c=\\beta*y+ \\epsilon$$\n",
    "$y$ is income. Intuitively,  rich people tend to fluctuate more in consumption on that poor people do. Therefore \\epsilon is likely to be a function of $y$ , Leading to heteroskasticity. \n",
    "\n",
    "- Investment function: $$I= \\beta * v+\\epsilon$$ \n",
    "$v$ is firm value. Intuitively, firm with large scale (large v), its fluctuation in investment may measured by billions, whie firm with small scale, its fluctuation in investment may measure by thousand dollors. Putting large and small scale company in one regreession leads to heteroskasticity.\n",
    "\n",
    "### Across-Group Difference\n",
    "- When individuals belong to different groups, and those groups are quite different, then heteroskasticity also happens. For example, suppose the individuals contain both employers (entrepreneurs) and employees. The fluctuation of income(consumption) of employers are quite different from those of employees. This leads to the heteroskasticity\n",
    "\n",
    "### Average Data\n",
    "- If the outcome variable is  an 'average' number, sometimes heteroskasticity also happens. For example, we study the factors that determines the GDP per capita of a province. Since for provinces with large population, the variance of GDP per capital is low, there exists heteroskasticity.\n",
    "\n",
    "### Omitted Variable \n",
    "- Yes, Omitted Variable is also one source of heteroskasticity.\n",
    "Consider a true model as:\n",
    "$$y_{i}= x_{i}\\beta + z_i \\gamma + \\epsilon_i \\tag{1} $$\n",
    "in which $$E( \\epsilon_i|x_i,z_i)=0, var( \\epsilon_i|x_i,z_i)=\\sigma^2$$\n",
    "Suppose now, however, that we estimate the following model:\n",
    "$$y_{i}= x_{i}\\beta + u_i \\tag{2} $$\n",
    "this implies that $u_i = z_i\\gamma + \\epsilon_i$. Therefore we have\n",
    "$$cov(x_i,u_i)=cov(x_i,z_i\\gamma + \\epsilon_i)=cov(x_i,z_i\\gamma )$$\n",
    "$$var(u_i | x_i)= var(z_i\\gamma + \\epsilon_i|x_i)=var(z_i\\gamma |x_i)+var(\\epsilon_i|x_i)=\\gamma^2 var(z_i|x_i)+var(\\epsilon_i|x_i)$$\n",
    "we know that $$var(\\epsilon_i|x_i)=E_z(var(\\epsilon_i|x_i,z))+var_z(E(\\epsilon_i|x_i,z))=\\sigma^2+0$$\n",
    "What is $var(z_i|x_i)$? According to the definition of conditional variance, we have \n",
    "$$var(z|x)= \\int{ {\\left[z- E(z|x)\\right]}^2 f(z|x)  }dz$$\n",
    "Therefore we have the following results\n",
    "- If $z$ is independent of $x$, then $E(z|x)=E(z)$,$f(z|x)=f(z)$. Therefore $var(z|x)$ is not a function of $x$: There is no problem of heteroskasticiy in the (2). On the other hand, we also have $cov(x_i,u_i)=0$: there is no problem of endogeneity. \n",
    "- If $z$ is not independent of $x$, then $var(z|x)$ is in general a function of $x$: There is a problem of heteroskasticiy in the (2). On the other hand, we also have $cov(x_i,u_i) \\ne 0$: there is problem of endogeneity. \n",
    "\n",
    "This example shows that, <b> when we specify the model incorrectly, heteroskasticity is a signal of possible misspecification of the model and obmission of endogeneous variables. </b> This happens typical when we only include the linear function of $x$, while in the real model there is non-linear part of $x$. Therefore, when heteroskasticity happens, we cannot exclude the possibility that there is uncaptured non-linear part of $x$. \n",
    "\n",
    "Of course, if we are quite sure that our model specification is correct, then, heteroskasticity is not a signal of obmitting endogeneous variables\n"
   ]
  },
  {
   "cell_type": "markdown",
   "metadata": {},
   "source": [
    "## Check for Heterosaksticity \n",
    "### Residual- X plot\n",
    " A simple and quick way to check for heteroskasticity is to examine scatterplots of the residuals against each of the predictor variables. \n",
    " \n",
    "- If there is a obvious trend of residual when predictor $x$ increases, but the degree of 'variance' does not change much with $x$ (a,b,c): there is omitted variable problem but no heteroskasticity related to $x$. This implies that the residual, which is $y$ net of the linear function of $x$ (and of course also the linear function of other varialbes), is still correlated with $x$. Therefore, there is some non-linear function of $x$ that also contributes to the $y$. Therefore we need to add some non-linear functions of $x$.\n",
    "\n",
    "- If there is no obvious trend of residual when predictor $x$ increases, but the degree of 'variance' increases (or decreases) obvious with predictor $x$ (d):  there is problem of heteroskasticity, and we cannot exclude the problem of omitted variables especially if we specify a wrong model. \n",
    "\n",
    "For omitted variable problem, we need to change the model specification. For heteroscasticity, we can (1) use wls (2) take log of $y$ (3) do nothing but only report the robust standard error. But notice, as we mentioned, the heteorskasticity is a possible sign of omitted variable!\n",
    "\n",
    "### White Test \n",
    "Main Idea: if there is no heteroskasticity, then the standard error and robust standard error must be close to each other. (Recall that under homoskasticity, the standard error and robust standard error are the same).\n",
    "### BP Test\n",
    "Main Idea: Directly regress OLS residual on the explanatory variables (all or a part of).If the coefficients are jointly not zero, then there exists heteroskasticity. (One limitation of this test is that it preassume the functional form of heteroskasticity)"
   ]
  },
  {
   "cell_type": "code",
   "execution_count": 1,
   "metadata": {},
   "outputs": [
    {
     "data": {
      "image/gif": "[encoded data removed]",
      "text/plain": [
       "<IPython.core.display.Image object>"
      ]
     },
     "execution_count": 1,
     "metadata": {
      "image/gif": {
       "height": 300,
       "width": 600
      }
     },
     "output_type": "execute_result"
    }
   ],
   "source": [
    "#Import library\n",
    "from IPython.display import Image\n",
    "# Load image from local storage\n",
    "Image(filename = \"heteroskasticity.gif\", width = 600, height = 300)"
   ]
  },
  {
   "cell_type": "markdown",
   "metadata": {},
   "source": [
    "## The Consequence of Neglecting Heteroskasticity \n",
    "Now we assume we have specified the model correctly, i.e, there is no problem of obmission of endogeneous variables. \n",
    "### For models to which we can apply moment estimation(OLS):\n",
    "Notice that for models that we can apply moment estimation ( mostly linear model, where we can use OLS), the moment condition does not assume homoskasticity. <b>Therefore, if we neglect the heteroskacticity,  the estimator under OLS is still consistent but no longer efficient (Since BLUE is derived under homoskasticity).</b> Intuitively, observations with larger variance contains less information. OLS, by giving the same weight on every observations, leads to estimators with large variance.\n",
    "\n",
    "Of course, if we neglect the heteroskasticity and estimate using MLE, the estimator would be no longer consistent: we are simply optimizing a wrong likelihood function if we neglect the heteroskasticity. For example,\n",
    "$$y=\\beta x+ \\epsilon, var(\\epsilon|x)=\\sigma^2x^2$$\n",
    "then the correct log likelihood function contains the following part:\n",
    "$$\\sum_{i=1}^{n}{\\frac{{(y_i - \\beta x_i)}^2}{2\\sigma^2 x^2_i}}$$\n",
    "if we neglect the heteroskasticity and simply assume $var(\\epsilon|x)=\\sigma^2$, then the counterpart of the above term is now\n",
    "$$\\sum_{i=1}^{n}{\\frac{{(y_i - \\beta x_i)}^2}{2\\sigma^2 }}$$\n",
    "i.e., we are optimizaing a wrong likelihood function.\n",
    "### For models to which we can not apply moment estimation:\n",
    "For most non-linear models (binary choices, poisson regression and so on), we can only use MLE to get the estimation. Again, if we neglect the heteroskaaticity, then we are simply optimizing a wrong likelihood function and hence get a wrong estimation. consider a binary choice model, where we have \n",
    "$$y^*_i= x_i \\beta+\\epsilon_i,y_i = 1(y^*_i>0), \\epsilon_i |x \\~N(0, exp(\\sigma x_i))$$\n",
    "there is heteroskasticity, and the right log likelihood function is \n",
    "$$\\sum_{1}^{n}{\\left[y_i \\Phi(\\frac{-x_i \\beta}{ \\sqrt{exp(\\sigma x_i)} })+(1-y_i)\\left(1-\\Phi(\\frac{-x_i \\beta}{\\sqrt{exp(\\sigma x_i)}})\\right)\\right]}$$\n",
    "Again, if we neglect such heteroskasticity and simply assume $$\\epsilon_i |x \\~N(0, exp(\\sigma))$$, then the likelihood function becomes \n",
    "$$\\sum_{1}^{n}{\\left[y_i \\Phi(\\frac{-x_i \\beta}{ \\sqrt{exp(\\sigma )} })+(1-y_i)\\left(1-\\Phi(\\frac{-x_i \\beta}{\\sqrt{exp(\\sigma )}})\\right)\\right]}$$\n",
    "Still we are optimization a wrong likelihood function. \n",
    "\n",
    "<b>In summary,suppose we neglect heteroskasticity, for models where we can apply moment condition estimation, we can get consistent estimation of the parameter as long as we use moment condition estimation; for models where we can only estimate using MLE, we cannot get consistent estimation.</b>"
   ]
  },
  {
   "cell_type": "markdown",
   "metadata": {},
   "source": [
    "## Dealing with Heteroskasticity (For linear model)\n",
    "### OLS + Robust Standard Error \n",
    "Details can be found in most textbooks.\n",
    "### FGLS (WLS)\n",
    "Details can be found in most textbooks. \n",
    "### Take logarithm of $y$\n",
    "Sometimes, taking logarithm of $y$ may be a strategy. Still consider:\n",
    "$$y_i= x\\beta + \\epsilon_i, var(\\epsilon_i |x_i)= \\sigma^2 x_i^2$$\n",
    "now, we define $z_i \\equiv \\log{y_i}$ and specify a new model\n",
    "$$z_i = x_i\\gamma + u_i$$\n",
    "we therefore have \n",
    "$$var(u_i|x_i)=var(log( x_i\\beta + \\epsilon_i)-x_i\\gamma|x_i)=var\\left(log( 1 + \\frac{\\epsilon_i}{x_i\\beta})+log(x_i\\beta)-x_i\\gamma|x_i\\right\n",
    ")$$\n",
    "$$=var\\left(log( 1 + \\frac{\\epsilon_i}{x_i\\beta})|x_i\\right\n",
    ")\\approx var(\\frac{\\epsilon_i}{x_i \\beta}|x_i)=\\frac{1}{x^2_i \\beta^2}var(\\epsilon_i |x_i)=\\frac{\\sigma^2}{\\beta^2}$$\n",
    "Therefore in the new model there is less heteroskasticity.\n",
    "\n",
    "By the way, <b>taking log of $y$ can help dealing with the data that is not normally distributed</b>. To be specific,  after the regression, we may want to take the residuals and see the distribution. If the distribution of residuals is highly right skewed (which is often the case),then the model we estimated violates normal error distribution (This is not a big issue in the large sample theory).  We can take log of $y$ to resolve this problem. "
   ]
  },
  {
   "cell_type": "code",
   "execution_count": null,
   "metadata": {},
   "outputs": [],
   "source": []
  }
 ],
 "metadata": {
  "kernelspec": {
   "display_name": "Python 3",
   "language": "python",
   "name": "python3"
  },
  "language_info": {
   "codemirror_mode": {
    "name": "ipython",
    "version": 3
   },
   "file_extension": ".py",
   "mimetype": "text/x-python",
   "name": "python",
   "nbconvert_exporter": "python",
   "pygments_lexer": "ipython3",
   "version": "3.8.3"
  },
  "toc": {
   "base_numbering": 1,
   "nav_menu": {},
   "number_sections": true,
   "sideBar": true,
   "skip_h1_title": false,
   "title_cell": "Table of Contents",
   "title_sidebar": "Contents",
   "toc_cell": false,
   "toc_position": {},
   "toc_section_display": true,
   "toc_window_display": false
  }
 },
 "nbformat": 4,
 "nbformat_minor": 4
}
