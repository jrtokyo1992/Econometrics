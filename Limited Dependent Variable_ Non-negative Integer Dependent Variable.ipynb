{
 "cells": [
  {
   "cell_type": "markdown",
   "metadata": {},
   "source": [
    "# Basic Model\n",
    "Sometimes we are dealing with dependent variable that is non-negative integer. For example, number of newly increasing patients(newly got medals, newly born number of children..) in a given time interval or area or population. if the $y$ has the following characteritics:\n",
    "<p>1. It is about the number of a certain incident over a given time period or area or population...</p>\n",
    "<p>2. The number of incident is only related to the measurement of time priod. or the area, or the population..</p>\n",
    "<p>3. The number of incident is not correlated to the previous history. </p>\n",
    "<p>4. The probabiity of a single incident is small (rare event).</p>\n",
    "<p>\n",
    "In the standard ols case we often assume that $y$ is generated from normal distribution (distribution parameter is a function of $x$). However, if the $y$ has the above characterisitics and we want to see the effect of $x$ on $y$, it is better to assume that $y$ is generated from poisson distriution, with parameter as a function of $x$.</p>\n",
    "Specifically we assume that\n",
    "$$pr(y_i = y|x)= \\frac {e^{-\\lambda(x_i)} {\\lambda(x_i)}^{y_i}}{y_i !}$$\n",
    "In which \n",
    "$$\\lambda(x_i)= e^{x'_i\\beta} \\tag{1}$$\n",
    "The reason for such a specification is that we want to make sure that $\\lambda>0$. We can immediately write down the mle and estimate the $\\beta.$. <b>The basic idea here is that, for discrete nonnagive dependent variable, it is a good idea to assume the dependent variable are generated from the possion distribution. </b>\n",
    "\n",
    "## The interpretation of $\\beta$\n",
    "<p><b>When we make assumption on the data generation process of $y$, we always should make sure that the coefficient is easy to interpret </b>. In standard linear regression framework, the $y$ is generated form a normal distribution with mean $x'_i\\beta$, So <b>$\\beta$ measure the marginal effect of $x$ on the mean value of $y$ that is generated from the distribution $N(x'\\beta, \\sigma^2)$</b>. But what is the interpretation of $\\beta$ here in poisson regression? </p>\n",
    "The property of poisson distribution implies that given $x_i$, the expectation of $y_i$, i.e., the average number of incidents, is $\\lambda(x'_i \\beta)$.( The variance of the $y_i$ is also  $\\lambda(x'_i \\beta)$ ).since $\\lambda(x'\\beta)=e^{x'\\beta}$,<b> we can interprete the $\\beta$ as the effect of a marginal change of $x$ on the percent change of average number of incident (the number of incident is drawn from the poisson distribution with parameter $\\lambda(x' \\beta)$)</b>\n"
   ]
  },
  {
   "cell_type": "markdown",
   "metadata": {},
   "source": [
    "# Poisson Regression with variable exposure\n",
    "A natural concern about the above model is that, since we are focusing on the number of incidents in a given interval of time (or given amount of population), we should keep such 'unit' as same across individuals. However, in reality this is not always the case. For example, we want to see the determinants of the number of patients of a dicease, using city-level data. One concern is that, a city with larger population tends to have more patients (given other thing same). Also, cities with longer investigation interval tends to have more patients. Therefore we want to incorporate the 'unit' or 'Exposure'$T_i$ into our model.i.e., \n",
    "$$\\lambda_i = exp(x'_i\\beta)T_i$$\n",
    "This implies that given $x'_i$, the average amount of incident is proportion to the 'exposure' (e.g., the total population , total total area, the time interval...)."
   ]
  },
  {
   "cell_type": "markdown",
   "metadata": {},
   "source": [
    "# Negative Binominal Regression\n",
    "As was mentioned,the baseline dependent variable data generation process simply implies $E(y_i|x_i)=exp(x'_i\\beta)=var(y_i|x_i)$. This may not be consistent with data: After all, we cannot make sure that our data has variance equal to expectation. If the variance of $y$ is obvious higher than its mean, then we have to modify the (1) to allow for more variance.\n",
    "<p>A natural way to realize this is to \n",
    "    $$\\log{\\lambda_i}= x'_i \\beta + \\epsilon$$\n",
    "</p>\n",
    "in which $\\epsilon$ is unobservable disturbance. Denote $v_i= e^{\\epsilon}$. we immediately have\n",
    "$$pr(y_i |x,v_i)= \\frac {e^{-e^{ x'_i \\beta}v_i} {\\left(e^{ x'_i \\beta}v_i\\right)}^{y_i}}{y_i !} $$\n",
    "of course we cannot directly apply MLE to this expression, since the $v_i$ is unobersable. We already know that a common way of getting rid of such term is to do integration w.r.t $v_i$\n",
    "$$pr(y_i |x)=\\int{pr(y_i |x,v_i)f(v_i)dv_i}=\\int{\\frac {e^{-e^{ x'_i \\beta}v_i} {\\left(e^{ x'_i \\beta}v_i\\right)}^{y_i}}{y_i !}f(v_i)dv_i}$$\n",
    "This is easy to  solve if we assume $v_i$ follows $Gamma$ distribution (Show details!)"
   ]
  },
  {
   "cell_type": "markdown",
   "metadata": {},
   "source": [
    "# Truncated Poisson Regression\n",
    "Please see the notes of 'missing and censored dependent variable' for more detailed information on basic truncated regression. Sometimes, we may also faced with truncated dependent variables.<b> An example is studying the determinants of the weekly shopping times, which is a variable that can only take non-negative variable (0,1,2,..) and is a natural case for doing poisson regression. But, what if we collect the data at the shopping mall? people going to shopping mall always has positive shoppign times! As a result, the data we collect is truncated at $y=0$, i.e., we cannot observe any information of those people who does not go to the shopping small.</b>\n",
    "<p>As usual, we use MLE to estimate. Following the notes on 'missing and censored dependent variable',the likehood function for an individual is now:\n",
    "$$pr(y=y_i| y_i>0 )=\\frac{f(y=y_i,y_i>0)}{pr(y_i>0)}=\\frac{e^{-\\lambda}\\lambda^y}{y!(1-e^{-\\lambda})} $$"
   ]
  },
  {
   "cell_type": "markdown",
   "metadata": {},
   "source": [
    "# Zero-Inflated Poisson Regression (ZIP)\n",
    "<p>Sometimes, there may be too many $y=0$ individuals in the sample. <b>Recall the cragg hurdle model, where people first make choices on whether or not to participate. For those to participate, they makes on amount. Such setting is more flexible, since it allows that the mechanism that determines whether an individual participate or not differs from the mechinism that determines the amount to choose.</b> </p>\n",
    "Following such a logic, we can make the following model spefication:\n",
    "$$y_i = \\begin{cases}\n",
    "y^*_i \\ge 1,\\quad w_i =1 \\\\\n",
    "0, \\quad w_i=0 \\\\\n",
    "\\end{cases}\n",
    "$$\n",
    "and we assume that $y^*_i$ is generated from a poisson distribution, but $y^*_i$ has to be positive. Therefore, $y^*_i$ in fact comes from a poisson distribution truncated at 0. Therefore we can write the data generation process of $y^*_i$ is \n",
    "$$pr(y=y^*_i|x_i) =\\frac {e^{-\\lambda(x_i)} {\\lambda(x_i)}^{y_i}}{y_i !(1-e^{-\\lambda(x_i)})} $$\n",
    "and \n",
    "$$\n",
    "w_i = \\begin{cases}\n",
    "1, \\quad z'_i \\gamma +v_i>0 \\\\\n",
    "0, \\quad z'_i \\gamma+ v_i<0\n",
    "\\end{cases}\n",
    "$$\n",
    "Therefore for an invidiual with $w_i=0$, the likelihood function is \n",
    "$$pr(w_i=0)= pr(v_i<-z'_i \\gamma)$$\n",
    "for an individual with $w_i=0$, the likelihood function is\n",
    "$$pr(y=y^*_i,w_i=0|x_i)=pr(v_i>-z'_i \\gamma)*\\frac {e^{-\\lambda(x_i)} {\\lambda(x_i)}^{y_i}}{y_i !(1-e^{-\\lambda(x_i)})} $$\n",
    "The equation holds since $v_i$ is independent of the distribution of $y^*_i$. Therefore, the likelihood function for an invidual $i$ is \n",
    "$${\\left[pr(v_i<-z'_i \\gamma)\\right]}^{1-w_i}{\\left[pr(v_i>-z'_i \\gamma)*\\frac {e^{-\\lambda(x_i)} {\\lambda(x_i)}^{y_i}}{y_i !(1-e^{-\\lambda(x_i)})}\\right]}^{w_i}$$\n",
    "How to choose from ZIP or standard poisson regression? Vuong statistics."
   ]
  },
  {
   "cell_type": "code",
   "execution_count": null,
   "metadata": {},
   "outputs": [],
   "source": []
  }
 ],
 "metadata": {
  "kernelspec": {
   "display_name": "Python 3",
   "language": "python",
   "name": "python3"
  },
  "language_info": {
   "codemirror_mode": {
    "name": "ipython",
    "version": 3
   },
   "file_extension": ".py",
   "mimetype": "text/x-python",
   "name": "python",
   "nbconvert_exporter": "python",
   "pygments_lexer": "ipython3",
   "version": "3.8.3"
  },
  "toc": {
   "base_numbering": 1,
   "nav_menu": {},
   "number_sections": true,
   "sideBar": true,
   "skip_h1_title": false,
   "title_cell": "Table of Contents",
   "title_sidebar": "Contents",
   "toc_cell": false,
   "toc_position": {},
   "toc_section_display": true,
   "toc_window_display": true
  }
 },
 "nbformat": 4,
 "nbformat_minor": 4
}
