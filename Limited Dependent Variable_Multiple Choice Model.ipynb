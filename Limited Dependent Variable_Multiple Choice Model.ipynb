{
 "cells": [
  {
   "cell_type": "markdown",
   "metadata": {},
   "source": [
    "# Multiple Choice Model\n",
    "## Multiple Logit/Probit\n",
    "Suppose you are making choice $y= 1,2,,,,J$: choose the transportation tool (from bus, subway, taxi, and etc..), choose a job (from teacher, doctor, and etc..).and you, as individual $i$,has the characteristic variables $X_i$.\n",
    "<p>We use stochastic utility to model the choice. the utility of an individual making choice $j$ is \n",
    "    $$\n",
    "    U_{ij}= x'_i\\beta_j+\\epsilon_{ij} \n",
    "    $$\n",
    "\n",
    "This expression implies that an individual's $X_i$ does not change under different choices.(We can think of the $X_i$ as $i$'s characteristic, e.g. income, age, gender and etc.) Instead, under different choices, the effect of $X_i$ on the utility is different. </p>\n",
    "It is natural to the write down the probability that an individual $i$ chooses $j$.\n",
    "$$\n",
    "pr(y_i=j|x_i)= pr ( x'_i\\beta_j+\\epsilon_{ij} \\ge x'_i\\beta_k+\\epsilon_{ik}, \\forall k )=pr ( x'_i\\beta_j-x'_i\\beta_k \\ge \\epsilon_{ik}-\\epsilon_{ij}, \\forall k )\n",
    "$$\n",
    "We want to solve out the expression of this probability. to solve it, we need to make assumption on the distribution of $\\epsilon$. we assume that $\\epsilon$ are i.i.d and follows a type 1 extreme value distribution. $$\n",
    "f(\\epsilon)= e^{-\\epsilon}e^{-e^{-\\epsilon}}, \\quad F(\\epsilon)=e^{-e^{-\\epsilon}}\n",
    "$$\n",
    "After some calculation it is easy to get (show it!!)\n",
    "$$\n",
    "pr(y_i=j|x_i)= \\frac{exp(x'_i\\beta_j)}{\\sum_{k=1}^{J}exp(x'_i \\beta_k)}\n",
    "$$\n",
    "To see this, we give an example where $J=3$.Therefore \n",
    "$$pr(y=1|x)=pr\\left(\\epsilon_2<x'(\\beta_1-\\beta_2)+\\epsilon_1,\\epsilon_3<x'(\\beta_1-\\beta_3)+\\epsilon_1\\right)$$\n",
    "$$=\\int{ e^{-\\epsilon_1}e^{-e^{-\\epsilon_1}} \\int_{-\\infty}^{x'(\\beta_1-\\beta_2)+\\epsilon_1}{ e^{-\\epsilon_2}e^{-e^{-\\epsilon_2}}   \\int_{-\\infty}^{x'(\\beta_1-\\beta_3)+\\epsilon_1}{ e^{-\\epsilon_3}e^{-e^{-\\epsilon_3}}  } d\\epsilon_3     }d\\epsilon_2  }d\\epsilon_1$$\n",
    "$$=\\int{e^{-\\epsilon_1}e^{-e^{-\\epsilon_1}}e^{-e^{-x'(\\beta_1-\\beta_2)-\\epsilon_1}}e^{-e^{-x'(\\beta_1-\\beta_3)-\\epsilon_1}}}d\\epsilon_1$$\n",
    "$$=\\int{exp\\left[ -e^{-\\epsilon_1}\\left( 1+e^{-x'(\\beta_1-\\beta_2)}\n",
    "+e^{-x'(\\beta_1-\\beta_3)} \\right)       \\right]}d(-e^{-\\epsilon_1})$$\n",
    "$$=\\frac{1}{\\left( 1+e^{-x'(\\beta_1-\\beta_2)}+e^{-x'(\\beta_1-\\beta_3)} \\right)}=\\frac{e^{x'\\beta_1}}{\\left( e^{x'\\beta_1}+e^{x'\\beta_2}+e^{x'\\beta_3} \\right)}$$\n",
    "It is obvious that the not all $\\beta$ can be identified. In fact, if we add each $\\beta_k$ by a same constant,the result does not change. Therefore, we can assume that $\\beta_1=0$ (i.e., treat $j=1$ as a baseline group). Therefore we have \n",
    "$$\n",
    "pr(y_i = j|x_j)=\\begin{array}{||}\n",
    "\\frac{1}{1+\\sum_{k=2}^{J}exp(x'_i \\beta_k)} & (j=1)\\\\\n",
    "\\frac{exp(x'_i\\beta_j)}{1+\\sum_{k=1}^{J}exp(x'_i \\beta_k)} & (Otherwise)\n",
    "\\end{array}\n",
    "$$\n",
    "Having constructed the probability function, we are ready to construct the ML function. \n",
    "$$\n",
    "L_i(\\beta_1,,,\\beta_J)= \\prod_{j=1}^{j=J}{{pr(y_i = j|x_j)}^{I(y_i=1)}}\n",
    "$$\n",
    "and we want to maximize the following \n",
    "$$\n",
    "L(\\beta_1,,,,\\beta_J)= \\prod_{i=1}^{j=n}{L_i(\\beta_1,,,\\beta_J)}\n",
    "$$"
   ]
  },
  {
   "cell_type": "markdown",
   "metadata": {},
   "source": [
    "## Conditional Logit Model (Mc Fadden)\n",
    "The multiple logit model simply assume that $x$ does not change with the choice. Therefore, often times, in the multiple logit model, $x$ often represents a set of invidiual characteristics, which does not change with specific choices. But this is not always the case. For example, when we choose from means of transportation, the time we spend on transportation matters. For the same person, he may spend different times on different means of transportation. This implies that the varaible 'transporation time', a variable that may affects individual's choice, actually changes with the choice. Therefore, we write such variables are $z_{ij}$, since they changes with individuals and choices. That is \n",
    "$$U_{ij}= z'_{ij}\\gamma +\\epsilon_{ij}$$\n",
    "if we still assume that $\\epsilon_{ij}$ follows exterme value distribution, then we still have\n",
    "$$pr(y_i=j|z_{ij})=\\frac{exp(z'_{ij} \\beta)}{\\sum_{k=1}^{J}{exp(z'_{ik}\\beta)}}$$\n",
    "One limitation of this model is that $\\beta$ are same across the choices, meaning a variables under different choices have the same marginal effect on the utility, which may not be the true case."
   ]
  },
  {
   "cell_type": "markdown",
   "metadata": {},
   "source": [
    "## Mixed Logit Model\n",
    "The mixed logit model is simply a mix of the conditional logit and the multiple logit model. To be specific, we have \n",
    "$$ U_{ij}= x'_i\\beta_j+z'_{ij}\\gamma+\\epsilon_{ij} $$\n",
    "The $pr(y_i=1|x_{i},z)$ still follows the expression in the previous examples."
   ]
  },
  {
   "cell_type": "markdown",
   "metadata": {},
   "source": [
    "## Nested Logit Model\n",
    "Notice that in the above models, we all assume that $\\epsilon_{ij}$ are $i.i.d$.that is, The unobservable factors that affects the utility of choosing plan $A$ is totally uncorrelated to the unobservable factors that affects the utility of choosing plan $B$. This assumption, however, may not be realistic, especially when the two plans looks very similar. For example, plan A is taking a red bus, while plan B is taking a blue bus.Since thse two choices are very similar,  It is quite possible that some unservable factors affecting the utility on plan A also affect the utility on plan B. Therefore, it may not be proper to simply assume that the $\\epsilon_{ij}$ are independent. A more complicated structure is needed to decribe the choice procedure. \n",
    "<p> consider the following situation. Suppose you have four choices: bus $(11)$, subway$(12)$, car$(21)$, bike$(22)$, walk(23). Check the code. the first number of the two-digit code the denotes whether the the transportation is public or private. Denote the unobservable factors affecting the utility of these choices as $\\epsilon_{11}$,  $\\epsilon_{12}$, $\\epsilon_{21}$, $\\epsilon_{22}$, $\\epsilon_{23}$(we have omitted the subsript for individuals). Specify the stochastic utility as\n",
    "    $$U_{jk}=x'_{jk}\\beta + z'_j\\gamma_j+\\epsilon_{jk}, j=1,2, k=1,2,3$$\n",
    "    Intuitively, $( \\epsilon_{11},  \\epsilon_{12})$ is not correlated with $(\\epsilon_{21}, \\epsilon_{22}, \\epsilon_{23})$ (since we can regard public transportation and private transportation as independent), but $ \\epsilon_{11}$,  may be corrlelated with $\\epsilon_{12}$; $(\\epsilon_{21}, \\epsilon_{22}, \\epsilon_{23})$ may be correlated with each other. Denote the joint accumulative function of these error terms as $F(\\epsilon_{11},\\epsilon_{12},\\epsilon_{21}, \\epsilon_{22}, \\epsilon_{23})$, it is easy to see that $G$ must have the following property:\n",
    "    $$F(\\epsilon_{11},\\epsilon_{12},\\epsilon_{21}, \\epsilon_{22}, \\epsilon_{23})=F_1(\\epsilon_{11},\\epsilon_{12})F_2(\\epsilon_{21}, \\epsilon_{22}, \\epsilon_{23})$$\n",
    "    $$F_1(\\epsilon_{11},\\epsilon_{12}) \\ne f_{11}(\\epsilon_{11})f_{12}(\\epsilon_{12}),F_2(\\epsilon_{21}, \\epsilon_{22}, \\epsilon_{23})\\ne f_{21}(\\epsilon_{21})f_{22}(\\epsilon_{22})f_{23}(\\epsilon_{23})$$\n",
    "In which $f_{..}$ is any function.This simply means that $F$ is seperable into some $F_1$,which is a function of $\\epsilon_{11},\\epsilon{12}$, and  $F_2$, which is a function of $\\epsilon_{21}, \\epsilon_{22}, \\epsilon_{23}$, while $F_1$ and $F_2$ are not separable.\n",
    "A candidate for $F$ is\n",
    "    $$F(\\epsilon_{11},\\epsilon_{12},\\epsilon_{21}, \\epsilon_{22}, \\epsilon_{23})=e^{-{\\left( \\epsilon^{\\tau_1}_{11}+\\epsilon^{\\tau_1}_{12}\\right)}^{\\frac{1}{\\tau_1}}-{\\left( \\epsilon^{\\tau_2}_{21}+\\epsilon^{\\tau_2}_{22}+\\epsilon^{\\tau_2}_{23}\\right)}^{\\frac{1}{\\tau_2}}}$$\n",
    "    We have already specified the joint distribution of the error terms. Now we can write down the probability of choosing $(jk)$"
   ]
  },
  {
   "cell_type": "markdown",
   "metadata": {},
   "source": [
    "## Ordered Multiple Choice Model\n",
    "Sometimes, the choices we are faced with are ordered data. For example, satisfaction (not satistified, so-so, satistfied.), the evaluation of bond (AAA,AA,A,B,C). Under this setting, it is natural to do the following setting. Suppose $y^*= x'\\beta +\\epsilon$,in which $\\epsilon$ follows $N(0,\\sigma^2)$ and \n",
    "$$y_i =   \\begin{cases}\n",
    "            0 \\quad y^*\\le r_0 \\\\\n",
    "            1 \\quad r_0 \\le y^*\\le r_1\\\\\n",
    "            2 \\quad r_1 \\le y^*\\le r_2\\\\\n",
    "            ..\\\\\n",
    "            K \\quad r_{K-1} \\le y^*\\le r_K\\\\   \n",
    "        \\end{cases}$$\n",
    "Then it is very easy to write $$p_k \\equiv pr(y_i = k|x)=pr(r_{k-1}\\le y^*\\le r_k|x)=pr(r_{k-1}\\le x'\\beta +\\epsilon\\le r_k|x) $$\n",
    "$$=pr(r_{k-1}-x'\\beta\\le \\epsilon \\le r_k-x'\\beta|x)= \\Phi(\\frac{r_k-x'\\beta}{\\sigma})-\\Phi(\\frac{r_{k-1}-x'\\beta}{\\sigma})$$\n",
    "Therefore, for an invidual $i$ we can easily write down the his likelihood\n",
    "$$\\prod_{1}^{K}{p^{d_k}_k}$$\n",
    "in which $d_k=1$ if he chooses k, and 0 otherwise.Knowing the likelihood of each person we can construct mle and estimate $\\beta$, $\\sigma$ and ${\\{r_k\\}}^{K}_{k=1}$"
   ]
  },
  {
   "cell_type": "code",
   "execution_count": null,
   "metadata": {},
   "outputs": [],
   "source": []
  }
 ],
 "metadata": {
  "kernelspec": {
   "display_name": "Python 3",
   "language": "python",
   "name": "python3"
  },
  "language_info": {
   "codemirror_mode": {
    "name": "ipython",
    "version": 3
   },
   "file_extension": ".py",
   "mimetype": "text/x-python",
   "name": "python",
   "nbconvert_exporter": "python",
   "pygments_lexer": "ipython3",
   "version": "3.8.3"
  },
  "toc": {
   "base_numbering": 1,
   "nav_menu": {},
   "number_sections": true,
   "sideBar": true,
   "skip_h1_title": false,
   "title_cell": "Table of Contents",
   "title_sidebar": "Contents",
   "toc_cell": false,
   "toc_position": {},
   "toc_section_display": true,
   "toc_window_display": true
  }
 },
 "nbformat": 4,
 "nbformat_minor": 4
}
